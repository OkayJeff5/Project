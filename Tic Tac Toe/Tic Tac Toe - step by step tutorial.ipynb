{
 "cells": [
  {
   "cell_type": "markdown",
   "id": "61e34dfc",
   "metadata": {},
   "source": [
    "***Tic Tac Toe***"
   ]
  },
  {
   "cell_type": "markdown",
   "id": "7f5161c5",
   "metadata": {},
   "source": [
    "**Step 1:** Create the board lapout"
   ]
  },
  {
   "cell_type": "code",
   "execution_count": 16,
   "id": "e4fd822f",
   "metadata": {},
   "outputs": [],
   "source": [
    "from IPython.display import clear_output\n",
    "\n",
    "def display_board(board):\n",
    "    clear_output()\n",
    "    print(turn+\"'s turn:\")\n",
    "    print('   |   |   ')\n",
    "    print(' '+board[7]+' | '+board[8]+' | '+board[9]+' ')\n",
    "    print('   |   |   ')\n",
    "    print('----------')\n",
    "    print('   |   |   ')\n",
    "    print(' '+board[4]+' | '+board[5]+' | '+board[6]+' ')\n",
    "    print('   |   |   ')\n",
    "    print('----------')\n",
    "    print('   |   |   ')\n",
    "    print(' '+board[1]+' | '+board[2]+' | '+board[3]+' ')\n",
    "    print('   |   |   ')\n",
    "    return board"
   ]
  },
  {
   "cell_type": "markdown",
   "id": "196fb3f8",
   "metadata": {},
   "source": [
    "**Step 2:** Let the player 1 choose the marker (X or O)"
   ]
  },
  {
   "cell_type": "code",
   "execution_count": 14,
   "id": "c117123f",
   "metadata": {},
   "outputs": [],
   "source": [
    "def player_input():\n",
    "    marker1 = ''\n",
    "    \n",
    "    # Keep asking player 1 to choose X or O\n",
    "    while marker1 != 'X' and marker1 != 'O':\n",
    "        marker1 = input('Player 1, Please choose your marker (\"X\" or \"O\"): ').upper()\n",
    "        if marker1 != 'X' or marker1 != 'O':\n",
    "            print('Please choose a valid marker (x or O)')\n",
    "    # Assign player 2 to the opposite marker\n",
    "    if marker1 == 'X':\n",
    "        marker2 = 'O'\n",
    "    else:\n",
    "        marker2 = 'X'\n",
    "    return (marker1,marker2)"
   ]
  },
  {
   "cell_type": "markdown",
   "id": "51060719",
   "metadata": {},
   "source": [
    "**Step 3:** Take in the board list object, a marker ('X' or 'O'), and a desired position (number 1-9) and assigns it to the board."
   ]
  },
  {
   "cell_type": "code",
   "execution_count": 3,
   "id": "7765e00f",
   "metadata": {},
   "outputs": [],
   "source": [
    "def place_marker(board, marker, position):\n",
    "    board[position] = marker"
   ]
  },
  {
   "cell_type": "markdown",
   "id": "aa11e8cb",
   "metadata": {},
   "source": [
    "**Step 4:** Check to see if that mark has won"
   ]
  },
  {
   "cell_type": "code",
   "execution_count": 4,
   "id": "36886afe",
   "metadata": {},
   "outputs": [],
   "source": [
    "def win_check(board, mark):\n",
    "    \n",
    "    return ((board[1]==board[2]==board[3]==mark) or \n",
    "            (board[4]==board[5]==board[6]==mark) or \n",
    "            (board[7]==board[8]==board[9]==mark) or \n",
    "            (board[1]==board[4]==board[7]==mark) or \n",
    "            (board[2]==board[5]==board[8]==mark) or \n",
    "            (board[3]==board[6]==board[9]==mark) or \n",
    "            (board[1]==board[5]==board[9]==mark) or \n",
    "            (board[7]==board[5]==board[3]==mark))"
   ]
  },
  {
   "cell_type": "markdown",
   "id": "8af50a1c",
   "metadata": {},
   "source": [
    "**Step 5:** Randomly decide which player goes first"
   ]
  },
  {
   "cell_type": "code",
   "execution_count": 5,
   "id": "c7c26b7e",
   "metadata": {},
   "outputs": [],
   "source": [
    "import random\n",
    "\n",
    "def choose_first():\n",
    "    \n",
    "    filp = random.randint(0,1)\n",
    "    \n",
    "    if filp == 0:\n",
    "        return 'Player 1'\n",
    "    else:\n",
    "        return 'Player 2'"
   ]
  },
  {
   "cell_type": "markdown",
   "id": "e96d6e45",
   "metadata": {},
   "source": [
    "**Step 6:** Check whether that spot is available"
   ]
  },
  {
   "cell_type": "code",
   "execution_count": 6,
   "id": "25f48b15",
   "metadata": {},
   "outputs": [],
   "source": [
    "def space_check(board, position):\n",
    "    return board[position] == ' '"
   ]
  },
  {
   "cell_type": "markdown",
   "id": "68a9099d",
   "metadata": {},
   "source": [
    "**step 7:** Check the board whether is full"
   ]
  },
  {
   "cell_type": "code",
   "execution_count": 7,
   "id": "b12b933b",
   "metadata": {},
   "outputs": [],
   "source": [
    "def full_board_check(board):\n",
    "    for i in range(1,10):\n",
    "        if space_check(board,i):\n",
    "            return False\n",
    "    return True"
   ]
  },
  {
   "cell_type": "markdown",
   "id": "cae252ea",
   "metadata": {},
   "source": [
    "**Step 8:** Ask for a player's next position and then uses the function from step 6 to check if it's a free position."
   ]
  },
  {
   "cell_type": "code",
   "execution_count": 12,
   "id": "16f6c2ce",
   "metadata": {},
   "outputs": [],
   "source": [
    "def player_choice(board):\n",
    "    \n",
    "    position = 0\n",
    "    while position not in [1,2,3,4,5,6,7,8,9] or not space_check(board, position):\n",
    "        position = int(input('Choose a position: (1-9) '))\n",
    "        if position not in [1,2,3,4,5,6,7,8,9]:\n",
    "            print(\"Please choose a valid position (1-9)\")\n",
    "        elif not space_check(board, position):\n",
    "            print(\"The spot already has a marker\")\n",
    "        \n",
    "    return position"
   ]
  },
  {
   "cell_type": "markdown",
   "id": "bc7d343f",
   "metadata": {},
   "source": [
    "**Step 9:** Ask the player if they wantto play again"
   ]
  },
  {
   "cell_type": "code",
   "execution_count": 9,
   "id": "5dc69d32",
   "metadata": {},
   "outputs": [],
   "source": [
    "def replay():\n",
    "    again = input('Do yall wanna play again? (Yes or No)')\n",
    "    if again[0].upper() == 'Y':\n",
    "        return True\n",
    "    else:\n",
    "        return False"
   ]
  },
  {
   "cell_type": "markdown",
   "id": "8aa86de3",
   "metadata": {},
   "source": [
    "**Step 10:** Run the game"
   ]
  },
  {
   "cell_type": "code",
   "execution_count": 20,
   "id": "6016ff9b",
   "metadata": {
    "scrolled": true
   },
   "outputs": [
    {
     "name": "stdout",
     "output_type": "stream",
     "text": [
      "Player 2's turn:\n",
      "   |   |   \n",
      " O | O | X \n",
      "   |   |   \n",
      "----------\n",
      "   |   |   \n",
      " X | O | O \n",
      "   |   |   \n",
      "----------\n",
      "   |   |   \n",
      " O | X | X \n",
      "   |   |   \n",
      "Tie Game!\n",
      "Do yall wanna play again? (Yes or No)no\n"
     ]
    }
   ],
   "source": [
    "print('Welcome to Tic Tac Toe!')\n",
    "\n",
    "while True:\n",
    "    ## Set the game up here\n",
    "    # Board\n",
    "    the_board = [' '] * 10\n",
    "    \n",
    "    # Choose Markers X,O\n",
    "    player1_marker,player2_marker = player_input()\n",
    "    \n",
    "    # Who goes first\n",
    "    turn = choose_first()\n",
    "    print(turn + ' will go first')\n",
    "    \n",
    "    play_game = input('Ready to play? Yes or No')\n",
    "    \n",
    "    if play_game[0].upper() == 'Y':\n",
    "        game_on = True\n",
    "    else:\n",
    "        game_on = False\n",
    "        \n",
    "\n",
    "    ## Game Play\n",
    "    while game_on:\n",
    "        \n",
    "        #Player 1 Turn\n",
    "        if turn == 'Player 1':\n",
    "            print(\"Player 1's turn:\")\n",
    "            # Show the board\n",
    "            display_board(the_board)\n",
    "            # Choose the a position\n",
    "            position = player_choice(the_board)\n",
    "            # Place the marker on the position\n",
    "            place_marker(the_board,player1_marker,position)\n",
    "            # Check if they won\n",
    "            if win_check(the_board,player1_marker):\n",
    "                display_board(the_board)\n",
    "                print('Congratulations! Player 1 has won!!')\n",
    "                game_on = False\n",
    "            else: \n",
    "                # Or check if there is a tie\n",
    "                if full_board_check(the_board):\n",
    "                    display_board(the_board)\n",
    "                    print('Tie Game!')\n",
    "                    break\n",
    "                else:\n",
    "                    turn = 'Player 2'\n",
    "            \n",
    "        # Player2's turn.\n",
    "        else:   \n",
    "            print(\"Player 2's turn:\")\n",
    "            # Show the board\n",
    "            display_board(the_board)\n",
    "            # Choose the a position\n",
    "            position = player_choice(the_board)\n",
    "            # Place the marker on the position\n",
    "            place_marker(the_board,player2_marker,position)\n",
    "            # Check if they won\n",
    "            if win_check(the_board,player2_marker):\n",
    "                display_board(the_board)\n",
    "                print('Congratulations! Player 2 has won!!')\n",
    "                game_on = False\n",
    "            else: \n",
    "                # Or check if there is a tie\n",
    "                if full_board_check(the_board):\n",
    "                    display_board(the_board)\n",
    "                    print('Tie Game!')\n",
    "                    break\n",
    "                else:\n",
    "                    turn = 'Player 1'\n",
    "\n",
    "    if not replay():\n",
    "        break"
   ]
  },
  {
   "cell_type": "code",
   "execution_count": null,
   "id": "4bac5ae5",
   "metadata": {},
   "outputs": [],
   "source": []
  }
 ],
 "metadata": {
  "kernelspec": {
   "display_name": "Python 3",
   "language": "python",
   "name": "python3"
  },
  "language_info": {
   "codemirror_mode": {
    "name": "ipython",
    "version": 3
   },
   "file_extension": ".py",
   "mimetype": "text/x-python",
   "name": "python",
   "nbconvert_exporter": "python",
   "pygments_lexer": "ipython3",
   "version": "3.8.8"
  }
 },
 "nbformat": 4,
 "nbformat_minor": 5
}
